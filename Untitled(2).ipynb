{
 "cells": [
  {
   "cell_type": "code",
   "execution_count": 5,
   "metadata": {},
   "outputs": [],
   "source": [
    "import altair as alt\n",
    "import pandas as pd\n",
    "import os\n",
    "import numpy as np \n",
    "import matplotlib.pyplot as plt\n",
    "import sklearn\n",
    "\n",
    "from datetime import datetime, timedelta\n",
    "from sklearn.model_selection import train_test_split\n",
    "from sklearn.metrics import mean_squared_error, r2_score\n",
    "from scipy.optimize import curve_fit\n"
   ]
  },
  {
   "cell_type": "code",
   "execution_count": 7,
   "metadata": {},
   "outputs": [
    {
     "data": {
      "text/plain": [
       "'C:\\\\Users\\\\mohit'"
      ]
     },
     "execution_count": 7,
     "metadata": {},
     "output_type": "execute_result"
    }
   ],
   "source": [
    "os.getcwd()"
   ]
  },
  {
   "cell_type": "code",
   "execution_count": 9,
   "metadata": {},
   "outputs": [],
   "source": [
    "wc = pd.read_csv('C:\\\\Users\\mohit\\Downloads\\world.csv')"
   ]
  },
  {
   "cell_type": "code",
   "execution_count": 11,
   "metadata": {},
   "outputs": [
    {
     "data": {
      "text/html": [
       "<div>\n",
       "<style scoped>\n",
       "    .dataframe tbody tr th:only-of-type {\n",
       "        vertical-align: middle;\n",
       "    }\n",
       "\n",
       "    .dataframe tbody tr th {\n",
       "        vertical-align: top;\n",
       "    }\n",
       "\n",
       "    .dataframe thead th {\n",
       "        text-align: right;\n",
       "    }\n",
       "</style>\n",
       "<table border=\"1\" class=\"dataframe\">\n",
       "  <thead>\n",
       "    <tr style=\"text-align: right;\">\n",
       "      <th></th>\n",
       "      <th>date</th>\n",
       "      <th>confirmed</th>\n",
       "      <th>recovered</th>\n",
       "      <th>death</th>\n",
       "    </tr>\n",
       "  </thead>\n",
       "  <tbody>\n",
       "    <tr>\n",
       "      <td>0</td>\n",
       "      <td>1/22/2020</td>\n",
       "      <td>0</td>\n",
       "      <td>0</td>\n",
       "      <td>0</td>\n",
       "    </tr>\n",
       "    <tr>\n",
       "      <td>1</td>\n",
       "      <td>1/23/2020</td>\n",
       "      <td>0</td>\n",
       "      <td>0</td>\n",
       "      <td>0</td>\n",
       "    </tr>\n",
       "    <tr>\n",
       "      <td>2</td>\n",
       "      <td>1/24/2020</td>\n",
       "      <td>0</td>\n",
       "      <td>0</td>\n",
       "      <td>0</td>\n",
       "    </tr>\n",
       "    <tr>\n",
       "      <td>3</td>\n",
       "      <td>1/25/2020</td>\n",
       "      <td>1</td>\n",
       "      <td>0</td>\n",
       "      <td>0</td>\n",
       "    </tr>\n",
       "    <tr>\n",
       "      <td>4</td>\n",
       "      <td>1/26/2020</td>\n",
       "      <td>1</td>\n",
       "      <td>0</td>\n",
       "      <td>0</td>\n",
       "    </tr>\n",
       "  </tbody>\n",
       "</table>\n",
       "</div>"
      ],
      "text/plain": [
       "        date  confirmed  recovered  death\n",
       "0  1/22/2020          0          0      0\n",
       "1  1/23/2020          0          0      0\n",
       "2  1/24/2020          0          0      0\n",
       "3  1/25/2020          1          0      0\n",
       "4  1/26/2020          1          0      0"
      ]
     },
     "execution_count": 11,
     "metadata": {},
     "output_type": "execute_result"
    }
   ],
   "source": [
    "wc.head()"
   ]
  },
  {
   "cell_type": "markdown",
   "metadata": {},
   "source": [
    "Here I covert the date from string to date format, and then use lamda function to map the difference and then add a column days"
   ]
  },
  {
   "cell_type": "code",
   "execution_count": 12,
   "metadata": {},
   "outputs": [
    {
     "data": {
      "text/html": [
       "<div>\n",
       "<style scoped>\n",
       "    .dataframe tbody tr th:only-of-type {\n",
       "        vertical-align: middle;\n",
       "    }\n",
       "\n",
       "    .dataframe tbody tr th {\n",
       "        vertical-align: top;\n",
       "    }\n",
       "\n",
       "    .dataframe thead th {\n",
       "        text-align: right;\n",
       "    }\n",
       "</style>\n",
       "<table border=\"1\" class=\"dataframe\">\n",
       "  <thead>\n",
       "    <tr style=\"text-align: right;\">\n",
       "      <th></th>\n",
       "      <th>date</th>\n",
       "      <th>days</th>\n",
       "      <th>confirmed</th>\n",
       "    </tr>\n",
       "  </thead>\n",
       "  <tbody>\n",
       "    <tr>\n",
       "      <td>0</td>\n",
       "      <td>1/22/2020</td>\n",
       "      <td>0</td>\n",
       "      <td>0</td>\n",
       "    </tr>\n",
       "    <tr>\n",
       "      <td>1</td>\n",
       "      <td>1/23/2020</td>\n",
       "      <td>1</td>\n",
       "      <td>0</td>\n",
       "    </tr>\n",
       "    <tr>\n",
       "      <td>2</td>\n",
       "      <td>1/24/2020</td>\n",
       "      <td>2</td>\n",
       "      <td>0</td>\n",
       "    </tr>\n",
       "    <tr>\n",
       "      <td>3</td>\n",
       "      <td>1/25/2020</td>\n",
       "      <td>3</td>\n",
       "      <td>1</td>\n",
       "    </tr>\n",
       "    <tr>\n",
       "      <td>4</td>\n",
       "      <td>1/26/2020</td>\n",
       "      <td>4</td>\n",
       "      <td>1</td>\n",
       "    </tr>\n",
       "    <tr>\n",
       "      <td>...</td>\n",
       "      <td>...</td>\n",
       "      <td>...</td>\n",
       "      <td>...</td>\n",
       "    </tr>\n",
       "    <tr>\n",
       "      <td>85</td>\n",
       "      <td>4/16/2020</td>\n",
       "      <td>85</td>\n",
       "      <td>16</td>\n",
       "    </tr>\n",
       "    <tr>\n",
       "      <td>86</td>\n",
       "      <td>4/17/2020</td>\n",
       "      <td>86</td>\n",
       "      <td>30</td>\n",
       "    </tr>\n",
       "    <tr>\n",
       "      <td>87</td>\n",
       "      <td>4/18/2020</td>\n",
       "      <td>87</td>\n",
       "      <td>30</td>\n",
       "    </tr>\n",
       "    <tr>\n",
       "      <td>88</td>\n",
       "      <td>4/19/2020</td>\n",
       "      <td>88</td>\n",
       "      <td>30</td>\n",
       "    </tr>\n",
       "    <tr>\n",
       "      <td>89</td>\n",
       "      <td>4/20/2020</td>\n",
       "      <td>89</td>\n",
       "      <td>31</td>\n",
       "    </tr>\n",
       "  </tbody>\n",
       "</table>\n",
       "<p>90 rows × 3 columns</p>\n",
       "</div>"
      ],
      "text/plain": [
       "         date  days  confirmed\n",
       "0   1/22/2020     0          0\n",
       "1   1/23/2020     1          0\n",
       "2   1/24/2020     2          0\n",
       "3   1/25/2020     3          1\n",
       "4   1/26/2020     4          1\n",
       "..        ...   ...        ...\n",
       "85  4/16/2020    85         16\n",
       "86  4/17/2020    86         30\n",
       "87  4/18/2020    87         30\n",
       "88  4/19/2020    88         30\n",
       "89  4/20/2020    89         31\n",
       "\n",
       "[90 rows x 3 columns]"
      ]
     },
     "execution_count": 12,
     "metadata": {},
     "output_type": "execute_result"
    }
   ],
   "source": [
    "wc['days']= wc['date'].map(lambda x : (datetime.strptime(x, '%m/%d/%Y') - datetime.strptime(\"1/22/2020\", '%m/%d/%Y')).days  )\n",
    "wc[['date','days','confirmed']]"
   ]
  },
  {
   "cell_type": "markdown",
   "metadata": {},
   "source": [
    "The Gompertz curve or Gompertz function, is a type of mathematical model for a time series and is named after Benjamin Gompertz (1779-1865). It is a sigmoid function which describes growth as being slowest at the start and end of a given time period. The right-hand or future value asymptote of the function is approached much more gradually by the curve than the left-hand or lower valued asymptote. This is in contrast to the simple logistic function in which both asymptotes are approached by the curve symmetrically. It is a special case of the generalised logistic function. The function was originally designed to describe human mortality, but since has been modified to be applied in biology, with regard to detailing populations. "
   ]
  },
  {
   "cell_type": "code",
   "execution_count": null,
   "metadata": {},
   "outputs": [],
   "source": []
  },
  {
   "cell_type": "code",
   "execution_count": 24,
   "metadata": {},
   "outputs": [
    {
     "data": {
      "text/plain": [
       "array([4.06763940e-174, 1.85858372e-161, 1.03339399e-149, 8.14124690e-139,\n",
       "       1.04659400e-128, 2.50275390e-119, 1.25715907e-110, 1.48477419e-102,\n",
       "       4.57779652e-095, 4.05997924e-088, 1.13334588e-081, 1.08254835e-075,\n",
       "       3.82324429e-070, 5.36461748e-065, 3.19693264e-060, 8.60774294e-056,\n",
       "       1.10901515e-051, 7.21120620e-048, 2.48633231e-044, 4.75882038e-041,\n",
       "       5.27591633e-038, 3.52443865e-035, 1.47154106e-032, 3.97277015e-030,\n",
       "       7.15707734e-028, 8.85917203e-026, 7.74180860e-024, 4.89789383e-022,\n",
       "       2.29630865e-020, 8.15284172e-019, 2.23650577e-017, 4.82955714e-016,\n",
       "       8.35276059e-015, 1.17572236e-013, 1.36708256e-012, 1.33136187e-011,\n",
       "       1.09994717e-010, 7.80158499e-010, 4.80305128e-009, 2.59308679e-008,\n",
       "       1.23937705e-007, 5.29053695e-007, 2.03354151e-006, 7.09176112e-006,\n",
       "       2.25972671e-005, 6.62202637e-005, 1.79550574e-004, 4.52982543e-004,\n",
       "       1.06889889e-003, 2.37055792e-003, 4.96329376e-003, 9.85146622e-003,\n",
       "       1.86088172e-002, 3.35720702e-002, 5.80391534e-002, 9.64462927e-002,\n",
       "       1.54494417e-001, 2.39196261e-001, 3.58821695e-001, 5.22729334e-001,\n",
       "       7.41085758e-001, 1.02448731e+000, 1.38351119e+000, 1.82823082e+000,\n",
       "       2.36773362e+000, 3.00967859e+000, 3.75992505e+000, 4.62225616e+000,\n",
       "       5.59821071e+000, 6.68702698e+000, 7.88569317e+000, 9.18909235e+000,\n",
       "       1.05902243e+001, 1.20804844e+001, 1.36499786e+001, 1.52878551e+001,\n",
       "       1.69826347e+001, 1.87225265e+001, 2.04957162e+001, 2.22906207e+001,\n",
       "       2.40961034e+001, 2.59016496e+001, 2.76975003e+001, 2.94747488e+001,\n",
       "       3.12254017e+001, 3.29424093e+001, 3.46196691e+001, 3.62520082e+001,\n",
       "       3.78351478e+001, 3.93656545e+001, 4.08408820e+001, 4.22589071e+001,\n",
       "       4.36184612e+001, 4.49188617e+001, 4.61599433e+001, 4.73419917e+001,\n",
       "       4.84656806e+001, 4.95320123e+001, 5.05422632e+001, 5.14979334e+001,\n",
       "       5.24007017e+001, 5.32523849e+001, 5.40549020e+001, 5.48102429e+001,\n",
       "       5.55204407e+001, 5.61875485e+001, 5.68136192e+001, 5.74006886e+001,\n",
       "       5.79507617e+001, 5.84658012e+001, 5.89477182e+001, 5.93983649e+001,\n",
       "       5.98195296e+001, 6.02129324e+001, 6.05802224e+001, 6.09229765e+001,\n",
       "       6.12426982e+001, 6.15408182e+001, 6.18186947e+001, 6.20776146e+001,\n",
       "       6.23187955e+001, 6.25433874e+001, 6.27524748e+001, 6.29470792e+001,\n",
       "       6.31281619e+001, 6.32966259e+001, 6.34533193e+001, 6.35990374e+001,\n",
       "       6.37345257e+001, 6.38604821e+001, 6.39775600e+001, 6.40863701e+001,\n",
       "       6.41874835e+001, 6.42814335e+001, 6.43687179e+001, 6.44498014e+001,\n",
       "       6.45251174e+001, 6.45950701e+001, 6.46600361e+001, 6.47203662e+001])"
      ]
     },
     "execution_count": 24,
     "metadata": {},
     "output_type": "execute_result"
    }
   ],
   "source": [
    "def gompertz(a, c, t, t_0):\n",
    "    Q = a * np.exp(-np.exp(-c*(t-t_0)))\n",
    "    return Q\n",
    "\n",
    "x = list(wc['days'])\n",
    "y = list(wc['confirmed'])\n",
    "\n",
    "\n",
    "x_train, x_test, y_train, y_test = train_test_split(x,y,train_size=0.85, test_size=0.15, shuffle=False)\n",
    "\n",
    "x_test_added = x_test + list(range((max(x_test)+1), 140))\n",
    "\n",
    "popt, pcov = curve_fit(gompertz, x_train, y_train, method='trf', bounds=([5, 0, 0],[14*max(y_train),0.15, 160]))\n",
    "a, estimated_c, estimated_t_0 = popt\n",
    "y_pred = gompertz(a, estimated_c, x_train+x_test_added, estimated_t_0)\n",
    "\n",
    "y_pred"
   ]
  },
  {
   "cell_type": "code",
   "execution_count": 25,
   "metadata": {},
   "outputs": [
    {
     "data": {
      "text/plain": [
       "<matplotlib.legend.Legend at 0x90b45c7408>"
      ]
     },
     "execution_count": 25,
     "metadata": {},
     "output_type": "execute_result"
    },
    {
     "data": {
      "image/png": "[encoded data removed]",
      "text/plain": [
       "<Figure size 432x288 with 1 Axes>"
      ]
     },
     "metadata": {
      "needs_background": "light"
     },
     "output_type": "display_data"
    }
   ],
   "source": [
    "plt.plot(x_train+x_test_added, y_pred, linewidth=2, label='predicted') \n",
    "plt.plot(x, y, linewidth=2, color='g', linestyle='dotted', label='confirmed')\n",
    "plt.title('prediction vs confirmed data on covid-19 cases in Nepal\\n')\n",
    "plt.xlabel('days since January 22 2020')\n",
    "plt.ylabel('confirmed positive cases')\n",
    "plt.legend(loc='upper left') \n"
   ]
  },
  {
   "cell_type": "markdown",
   "metadata": {},
   "source": [
    " We see that this model seems to be close to the actual data and predicts the cases to reach at 65 ."
   ]
  },
  {
   "cell_type": "code",
   "execution_count": null,
   "metadata": {},
   "outputs": [],
   "source": []
  }
 ],
 "metadata": {
  "kernelspec": {
   "display_name": "Python 3",
   "language": "python",
   "name": "python3"
  },
  "language_info": {
   "codemirror_mode": {
    "name": "ipython",
    "version": 3
   },
   "file_extension": ".py",
   "mimetype": "text/x-python",
   "name": "python",
   "nbconvert_exporter": "python",
   "pygments_lexer": "ipython3",
   "version": "3.7.4"
  }
 },
 "nbformat": 4,
 "nbformat_minor": 2
}
