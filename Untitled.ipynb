{
 "cells": [
  {
   "cell_type": "code",
   "execution_count": 1,
   "metadata": {},
   "outputs": [],
   "source": [
    "import altair as alt\n",
    "import pandas as pd\n",
    "import os\n",
    "import numpy as np \n",
    "import matplotlib.pyplot as plt\n",
    "import sklearn\n",
    "\n",
    "from datetime import datetime, timedelta\n",
    "from sklearn.model_selection import train_test_split\n",
    "from sklearn.metrics import mean_squared_error, r2_score\n",
    "from scipy.optimize import curve_fit\n"
   ]
  },
  {
   "cell_type": "code",
   "execution_count": 2,
   "metadata": {},
   "outputs": [
    {
     "data": {
      "text/plain": [
       "'C:\\\\Users\\\\mohit'"
      ]
     },
     "execution_count": 2,
     "metadata": {},
     "output_type": "execute_result"
    }
   ],
   "source": [
    "os.getcwd()"
   ]
  },
  {
   "cell_type": "code",
   "execution_count": 3,
   "metadata": {},
   "outputs": [],
   "source": [
    "wc = pd.read_csv('C:\\\\Users\\mohit\\Downloads\\world.csv')"
   ]
  },
  {
   "cell_type": "code",
   "execution_count": 4,
   "metadata": {},
   "outputs": [
    {
     "data": {
      "text/html": [
       "<div>\n",
       "<style scoped>\n",
       "    .dataframe tbody tr th:only-of-type {\n",
       "        vertical-align: middle;\n",
       "    }\n",
       "\n",
       "    .dataframe tbody tr th {\n",
       "        vertical-align: top;\n",
       "    }\n",
       "\n",
       "    .dataframe thead th {\n",
       "        text-align: right;\n",
       "    }\n",
       "</style>\n",
       "<table border=\"1\" class=\"dataframe\">\n",
       "  <thead>\n",
       "    <tr style=\"text-align: right;\">\n",
       "      <th></th>\n",
       "      <th>date</th>\n",
       "      <th>confirmed</th>\n",
       "      <th>recovered</th>\n",
       "      <th>death</th>\n",
       "    </tr>\n",
       "  </thead>\n",
       "  <tbody>\n",
       "    <tr>\n",
       "      <td>0</td>\n",
       "      <td>1/22/2020</td>\n",
       "      <td>0</td>\n",
       "      <td>0</td>\n",
       "      <td>0</td>\n",
       "    </tr>\n",
       "    <tr>\n",
       "      <td>1</td>\n",
       "      <td>1/23/2020</td>\n",
       "      <td>0</td>\n",
       "      <td>0</td>\n",
       "      <td>0</td>\n",
       "    </tr>\n",
       "    <tr>\n",
       "      <td>2</td>\n",
       "      <td>1/24/2020</td>\n",
       "      <td>0</td>\n",
       "      <td>0</td>\n",
       "      <td>0</td>\n",
       "    </tr>\n",
       "    <tr>\n",
       "      <td>3</td>\n",
       "      <td>1/25/2020</td>\n",
       "      <td>1</td>\n",
       "      <td>0</td>\n",
       "      <td>0</td>\n",
       "    </tr>\n",
       "    <tr>\n",
       "      <td>4</td>\n",
       "      <td>1/26/2020</td>\n",
       "      <td>1</td>\n",
       "      <td>0</td>\n",
       "      <td>0</td>\n",
       "    </tr>\n",
       "  </tbody>\n",
       "</table>\n",
       "</div>"
      ],
      "text/plain": [
       "        date  confirmed  recovered  death\n",
       "0  1/22/2020          0          0      0\n",
       "1  1/23/2020          0          0      0\n",
       "2  1/24/2020          0          0      0\n",
       "3  1/25/2020          1          0      0\n",
       "4  1/26/2020          1          0      0"
      ]
     },
     "execution_count": 4,
     "metadata": {},
     "output_type": "execute_result"
    }
   ],
   "source": [
    "wc.head()"
   ]
  },
  {
   "cell_type": "code",
   "execution_count": 5,
   "metadata": {},
   "outputs": [
    {
     "data": {
      "text/html": [
       "<div>\n",
       "<style scoped>\n",
       "    .dataframe tbody tr th:only-of-type {\n",
       "        vertical-align: middle;\n",
       "    }\n",
       "\n",
       "    .dataframe tbody tr th {\n",
       "        vertical-align: top;\n",
       "    }\n",
       "\n",
       "    .dataframe thead th {\n",
       "        text-align: right;\n",
       "    }\n",
       "</style>\n",
       "<table border=\"1\" class=\"dataframe\">\n",
       "  <thead>\n",
       "    <tr style=\"text-align: right;\">\n",
       "      <th></th>\n",
       "      <th>date</th>\n",
       "      <th>days</th>\n",
       "      <th>confirmed</th>\n",
       "    </tr>\n",
       "  </thead>\n",
       "  <tbody>\n",
       "    <tr>\n",
       "      <td>0</td>\n",
       "      <td>1/22/2020</td>\n",
       "      <td>0</td>\n",
       "      <td>0</td>\n",
       "    </tr>\n",
       "    <tr>\n",
       "      <td>1</td>\n",
       "      <td>1/23/2020</td>\n",
       "      <td>1</td>\n",
       "      <td>0</td>\n",
       "    </tr>\n",
       "    <tr>\n",
       "      <td>2</td>\n",
       "      <td>1/24/2020</td>\n",
       "      <td>2</td>\n",
       "      <td>0</td>\n",
       "    </tr>\n",
       "    <tr>\n",
       "      <td>3</td>\n",
       "      <td>1/25/2020</td>\n",
       "      <td>3</td>\n",
       "      <td>1</td>\n",
       "    </tr>\n",
       "    <tr>\n",
       "      <td>4</td>\n",
       "      <td>1/26/2020</td>\n",
       "      <td>4</td>\n",
       "      <td>1</td>\n",
       "    </tr>\n",
       "    <tr>\n",
       "      <td>...</td>\n",
       "      <td>...</td>\n",
       "      <td>...</td>\n",
       "      <td>...</td>\n",
       "    </tr>\n",
       "    <tr>\n",
       "      <td>81</td>\n",
       "      <td>4/12/2020</td>\n",
       "      <td>81</td>\n",
       "      <td>12</td>\n",
       "    </tr>\n",
       "    <tr>\n",
       "      <td>82</td>\n",
       "      <td>4/13/2020</td>\n",
       "      <td>82</td>\n",
       "      <td>14</td>\n",
       "    </tr>\n",
       "    <tr>\n",
       "      <td>83</td>\n",
       "      <td>4/14/2020</td>\n",
       "      <td>83</td>\n",
       "      <td>16</td>\n",
       "    </tr>\n",
       "    <tr>\n",
       "      <td>84</td>\n",
       "      <td>4/15/2020</td>\n",
       "      <td>84</td>\n",
       "      <td>16</td>\n",
       "    </tr>\n",
       "    <tr>\n",
       "      <td>85</td>\n",
       "      <td>4/16/2020</td>\n",
       "      <td>85</td>\n",
       "      <td>16</td>\n",
       "    </tr>\n",
       "  </tbody>\n",
       "</table>\n",
       "<p>86 rows × 3 columns</p>\n",
       "</div>"
      ],
      "text/plain": [
       "         date  days  confirmed\n",
       "0   1/22/2020     0          0\n",
       "1   1/23/2020     1          0\n",
       "2   1/24/2020     2          0\n",
       "3   1/25/2020     3          1\n",
       "4   1/26/2020     4          1\n",
       "..        ...   ...        ...\n",
       "81  4/12/2020    81         12\n",
       "82  4/13/2020    82         14\n",
       "83  4/14/2020    83         16\n",
       "84  4/15/2020    84         16\n",
       "85  4/16/2020    85         16\n",
       "\n",
       "[86 rows x 3 columns]"
      ]
     },
     "execution_count": 5,
     "metadata": {},
     "output_type": "execute_result"
    }
   ],
   "source": [
    "wc['days']= wc['date'].map(lambda x : (datetime.strptime(x, '%m/%d/%Y') - datetime.strptime(\"1/22/2020\", '%m/%d/%Y')).days  )\n",
    "wc[['date','days','confirmed']]"
   ]
  },
  {
   "cell_type": "code",
   "execution_count": 6,
   "metadata": {},
   "outputs": [
    {
     "data": {
      "text/plain": [
       "array([7.69983081e-82, 7.35471777e-76, 2.59747131e-70, 3.64466378e-65,\n",
       "       2.17196187e-60, 5.84800856e-56, 7.53453039e-52, 4.89921642e-48,\n",
       "       1.68918760e-44, 3.23309171e-41, 3.58440117e-38, 2.39446595e-35,\n",
       "       9.99749271e-33, 2.69905758e-30, 4.86244186e-28, 6.01882680e-26,\n",
       "       5.25970202e-24, 3.32757673e-22, 1.56008755e-20, 5.53895353e-19,\n",
       "       1.51945812e-17, 3.28114951e-16, 5.67477628e-15, 7.98773208e-14,\n",
       "       9.28781280e-13, 9.04513029e-12, 7.47292353e-11, 5.30031347e-10,\n",
       "       3.26314171e-09, 1.76171545e-08, 8.42019519e-08, 3.59433426e-07,\n",
       "       1.38156637e-06, 4.81806672e-06, 1.53523418e-05, 4.49893395e-05,\n",
       "       1.21984741e-04, 3.07751498e-04, 7.26198480e-04, 1.61053172e-03,\n",
       "       3.37200874e-03, 6.69298087e-03, 1.26426315e-02, 2.28085057e-02,\n",
       "       3.94311805e-02, 6.55245806e-02, 1.04961856e-01, 1.62507384e-01,\n",
       "       2.43779625e-01, 3.55136723e-01, 5.03485744e-01, 6.96025728e-01,\n",
       "       9.39942720e-01, 1.24208048e+00, 1.60861292e+00, 2.04474347e+00,\n",
       "       2.55445290e+00, 3.14031144e+00, 3.80336453e+00, 4.54309466e+00,\n",
       "       5.35745566e+00, 6.24297114e+00, 7.19488523e+00, 8.20735202e+00,\n",
       "       9.27364961e+00, 1.03864054e+01, 1.15378205e+01, 1.27198844e+01,\n",
       "       1.39245706e+01, 1.51440095e+01, 1.63706351e+01, 1.75973039e+01,\n",
       "       1.88173857e+01, 2.00248293e+01, 2.12142042e+01, 2.23807208e+01,\n",
       "       2.35202332e+01, 2.46292269e+01, 2.57047951e+01, 2.67446049e+01,\n",
       "       2.77468588e+01, 2.87102499e+01, 2.96339164e+01, 3.05173946e+01,\n",
       "       3.13605722e+01, 3.21636432e+01, 3.29270654e+01, 3.36515198e+01,\n",
       "       3.43378735e+01, 3.49871456e+01, 3.56004767e+01, 3.61791012e+01,\n",
       "       3.67243227e+01, 3.72374933e+01, 3.77199941e+01, 3.81732200e+01,\n",
       "       3.85985657e+01, 3.89974144e+01, 3.93711282e+01, 3.97210405e+01,\n",
       "       4.00484497e+01, 4.03546143e+01, 4.06407491e+01, 4.09080227e+01,\n",
       "       4.11575557e+01, 4.13904191e+01, 4.16076347e+01, 4.18101742e+01,\n",
       "       4.19989605e+01, 4.21748679e+01, 4.23387237e+01, 4.24913090e+01,\n",
       "       4.26333607e+01, 4.27655729e+01, 4.28885985e+01, 4.30030512e+01,\n",
       "       4.31095070e+01, 4.32085063e+01, 4.33005556e+01, 4.33861291e+01,\n",
       "       4.34656705e+01, 4.35395950e+01, 4.36082903e+01, 4.36721189e+01,\n",
       "       4.37314190e+01, 4.37865063e+01, 4.38376752e+01, 4.38852003e+01,\n",
       "       4.39293375e+01, 4.39703251e+01, 4.40083854e+01, 4.40437250e+01,\n",
       "       4.40765364e+01, 4.41069989e+01, 4.41352791e+01, 4.41615321e+01,\n",
       "       4.41859021e+01, 4.42085232e+01, 4.42295201e+01, 4.42490088e+01])"
      ]
     },
     "execution_count": 6,
     "metadata": {},
     "output_type": "execute_result"
    }
   ],
   "source": [
    "def gompertz(a, c, t, t_0):\n",
    "    Q = a * np.exp(-np.exp(-c*(t-t_0)))\n",
    "    return Q\n",
    "\n",
    "x = list(wc['days'])\n",
    "y = list(wc['confirmed'])\n",
    "\n",
    "\n",
    "x_train, x_test, y_train, y_test = train_test_split(x,y,train_size=0.85, test_size=0.15, shuffle=False)\n",
    "\n",
    "x_test_added = x_test + list(range((max(x_test)+1), 140))\n",
    "\n",
    "popt, pcov = curve_fit(gompertz, x_train, y_train, method='trf', bounds=([5, 0, 0],[14*max(y_train),0.15, 140]))\n",
    "a, estimated_c, estimated_t_0 = popt\n",
    "y_pred = gompertz(a, estimated_c, x_train+x_test_added, estimated_t_0)\n",
    "\n",
    "y_pred"
   ]
  },
  {
   "cell_type": "code",
   "execution_count": 7,
   "metadata": {},
   "outputs": [
    {
     "data": {
      "text/plain": [
       "<matplotlib.legend.Legend at 0xfc7b8eac08>"
      ]
     },
     "execution_count": 7,
     "metadata": {},
     "output_type": "execute_result"
    },
    {
     "data": {
      "image/png": "[encoded data removed]",
      "text/plain": [
       "<Figure size 432x288 with 1 Axes>"
      ]
     },
     "metadata": {
      "needs_background": "light"
     },
     "output_type": "display_data"
    }
   ],
   "source": [
    "plt.plot(x_train+x_test_added, y_pred, linewidth=2, label='predicted') \n",
    "plt.plot(x, y, linewidth=2, color='g', linestyle='dotted', label='confirmed')\n",
    "plt.title('prediction vs confirmed data on covid-19 cases in Nepal\\n')\n",
    "plt.xlabel('days since January 22 2020')\n",
    "plt.ylabel('confirmed positive cases')\n",
    "plt.legend(loc='upper left') \n"
   ]
  },
  {
   "cell_type": "code",
   "execution_count": null,
   "metadata": {},
   "outputs": [],
   "source": []
  },
  {
   "cell_type": "code",
   "execution_count": null,
   "metadata": {},
   "outputs": [],
   "source": []
  }
 ],
 "metadata": {
  "kernelspec": {
   "display_name": "Python 3",
   "language": "python",
   "name": "python3"
  },
  "language_info": {
   "codemirror_mode": {
    "name": "ipython",
    "version": 3
   },
   "file_extension": ".py",
   "mimetype": "text/x-python",
   "name": "python",
   "nbconvert_exporter": "python",
   "pygments_lexer": "ipython3",
   "version": "3.7.4"
  }
 },
 "nbformat": 4,
 "nbformat_minor": 2
}
